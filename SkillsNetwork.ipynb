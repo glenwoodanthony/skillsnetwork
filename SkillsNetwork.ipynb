{
 "cells": [
  {
   "cell_type": "markdown",
   "metadata": {
    "collapsed": true
   },
   "source": [
    "<H1> My Jupyter Notebook on IBM Watson Studio </H1>"
   ]
  },
  {
   "cell_type": "markdown",
   "metadata": {},
   "source": [
    "<b> Glenwood Thomas </b> <br>\n",
    "Data Scientist"
   ]
  },
  {
   "cell_type": "markdown",
   "metadata": {},
   "source": [
    "<i> I am interested in data science because it is an evolving field which can be of value to organizations, governments and the world. </i> <br>\n",
    "<i> Data science can be used to find solutions from data but there are gaps in skills and a shortage of Data Science professionals. </i> <br>\n",
    "<i> I want to help by becoming a competent Data Scientist and contributing to finding solutions. </i>"
   ]
  },
  {
   "cell_type": "markdown",
   "metadata": {},
   "source": [
    "<H3>The following code calculates the circumference of a circle using the formula C=2πr </H3>"
   ]
  },
  {
   "cell_type": "code",
   "execution_count": 35,
   "metadata": {
    "scrolled": true
   },
   "outputs": [
    {
     "name": "stdout",
     "output_type": "stream",
     "text": [
      "12.56\n"
     ]
    }
   ],
   "source": [
    "#Pi or π is a constant value - 3.14\n",
    "Pi = 3.14\n",
    "\n",
    "#Radius of circle is 2 metres\n",
    "#Assign to Radius variable\n",
    "Radius = 2\n",
    "\n",
    "#Carry out calculation using formula for circumference\n",
    "#Assign to Circumference variable\n",
    "Circumference = 2*Pi*Radius\n",
    "\n",
    "#Display result of calculation\n",
    "print(Circumference) "
   ]
  },
  {
   "attachments": {},
   "cell_type": "markdown",
   "metadata": {},
   "source": [
    "<hr>\n",
    "<table> Colors Table\n",
    "    <tr><li> Red </li>\n",
    "        <li> Orange </li>\n",
    "        <li> Yellow </li>\n",
    "        <li> Green </li>\n",
    "        <li> Blue </li>\n",
    "        <li> Indigo </li>\n",
    "        <li> Violet </li>\n",
    "    </tr>\n",
    "</table>\n",
    "<hr>\n",
    "<hr>  \n",
    "<s>Sorry, this was a mistake or was it ? - Strikethrough </s>"
   ]
  },
  {
   "cell_type": "code",
   "execution_count": null,
   "metadata": {},
   "outputs": [],
   "source": []
  }
 ],
 "metadata": {
  "kernelspec": {
   "display_name": "Python 3.9",
   "language": "python",
   "name": "python3"
  },
  "language_info": {
   "codemirror_mode": {
    "name": "ipython",
    "version": 3
   },
   "file_extension": ".py",
   "mimetype": "text/x-python",
   "name": "python",
   "nbconvert_exporter": "python",
   "pygments_lexer": "ipython3",
   "version": "3.9.12"
  }
 },
 "nbformat": 4,
 "nbformat_minor": 1
}
